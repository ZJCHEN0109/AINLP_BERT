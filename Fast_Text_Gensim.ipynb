{
  "nbformat": 4,
  "nbformat_minor": 0,
  "metadata": {
    "colab": {
      "name": "Fast_Text_Gensim.ipynb",
      "provenance": [],
      "authorship_tag": "ABX9TyNGt3juF2EBtBD19ctCjd8U",
      "include_colab_link": true
    },
    "kernelspec": {
      "name": "python3",
      "display_name": "Python 3"
    },
    "language_info": {
      "name": "python"
    }
  },
  "cells": [
    {
      "cell_type": "markdown",
      "metadata": {
        "id": "view-in-github",
        "colab_type": "text"
      },
      "source": [
        "<a href=\"https://colab.research.google.com/github/ZJCHEN0109/AINLP_BERT/blob/main/Fast_Text_Gensim.ipynb\" target=\"_parent\"><img src=\"https://colab.research.google.com/assets/colab-badge.svg\" alt=\"Open In Colab\"/></a>"
      ]
    },
    {
      "cell_type": "code",
      "execution_count": 2,
      "metadata": {
        "colab": {
          "base_uri": "https://localhost:8080/"
        },
        "id": "rjsbmkH5SG9T",
        "outputId": "353b3963-d9d2-4f26-e0c2-1cea08251305"
      },
      "outputs": [
        {
          "output_type": "stream",
          "name": "stdout",
          "text": [
            "Looking in indexes: https://pypi.org/simple, https://us-python.pkg.dev/colab-wheels/public/simple/\n",
            "Requirement already satisfied: gensim in /usr/local/lib/python3.7/dist-packages (3.6.0)\n",
            "Requirement already satisfied: numpy>=1.11.3 in /usr/local/lib/python3.7/dist-packages (from gensim) (1.21.6)\n",
            "Requirement already satisfied: scipy>=0.18.1 in /usr/local/lib/python3.7/dist-packages (from gensim) (1.7.3)\n",
            "Requirement already satisfied: smart-open>=1.2.1 in /usr/local/lib/python3.7/dist-packages (from gensim) (5.2.1)\n",
            "Requirement already satisfied: six>=1.5.0 in /usr/local/lib/python3.7/dist-packages (from gensim) (1.15.0)\n"
          ]
        }
      ],
      "source": [
        "!pip3 install gensim"
      ]
    },
    {
      "cell_type": "code",
      "source": [
        "!pip3 install opencc"
      ],
      "metadata": {
        "colab": {
          "base_uri": "https://localhost:8080/"
        },
        "id": "DJZFpwwXXDqx",
        "outputId": "c19d38e4-4cd5-4271-f364-a6c6b6ee8692"
      },
      "execution_count": 11,
      "outputs": [
        {
          "output_type": "stream",
          "name": "stdout",
          "text": [
            "Looking in indexes: https://pypi.org/simple, https://us-python.pkg.dev/colab-wheels/public/simple/\n",
            "Collecting opencc\n",
            "  Downloading OpenCC-1.1.4-cp37-cp37m-manylinux1_x86_64.whl (769 kB)\n",
            "\u001b[K     |████████████████████████████████| 769 kB 4.0 MB/s \n",
            "\u001b[?25hInstalling collected packages: opencc\n",
            "Successfully installed opencc-1.1.4\n"
          ]
        }
      ]
    },
    {
      "cell_type": "code",
      "source": [
        "# coding: utf-8\n",
        "\"\"\"\n",
        "Extracted the content in the wiki_database\n",
        "\"\"\"\n",
        "from gensim.corpora import WikiCorpus\n",
        "\n",
        "\n",
        "# Load data\n",
        "wiki_corpus = WikiCorpus('zhwiki-20220801-pages-articles1.xml-p1p187712.bz2', dictionary={})\n",
        "\n",
        "\n",
        "# Save data\n",
        "with open('wiki_text.txt', 'w', encoding='utf-8') as f:\n",
        "    print('Start to preprocess.')\n",
        "    for times, text in enumerate(wiki_corpus.get_texts()):\n",
        "        f.write(' '.join(text)+'\\n')\n",
        "\n",
        "        if (times+1) % 10000 == 0:\n",
        "            print(times+1)"
      ],
      "metadata": {
        "colab": {
          "base_uri": "https://localhost:8080/"
        },
        "id": "gzvztwyLSSDq",
        "outputId": "3cd3570a-36d1-42a0-b2e4-4908651f8cee"
      },
      "execution_count": 17,
      "outputs": [
        {
          "output_type": "stream",
          "name": "stdout",
          "text": [
            "Start to preprocess.\n",
            "10000\n",
            "20000\n",
            "30000\n"
          ]
        }
      ]
    },
    {
      "cell_type": "code",
      "source": [
        "# coding: utf-8\n",
        "\"\"\"\n",
        "Tokenize\n",
        "\"\"\"\n",
        "import jieba\n",
        "from opencc import OpenCC\n",
        "\n",
        "\n",
        "# Initial\n",
        "cc = OpenCC('s2t')\n",
        "\n",
        "\n",
        "# Tokenize\n",
        "with open('wiki_text_seg.txt', 'w', encoding='utf-8') as new_f:\n",
        "    with open('MedCareOnlyACode.txt', 'r', encoding='utf-8') as f:\n",
        "        for data in f:\n",
        "            data = cc.convert(data)\n",
        "            data = jieba.cut(data)\n",
        "            data = [word for word in data if word != ' ']\n",
        "            data = ' '.join(data)\n",
        "\n",
        "            new_f.write(data)"
      ],
      "metadata": {
        "id": "KDaMxVQnSR-u"
      },
      "execution_count": 21,
      "outputs": []
    },
    {
      "cell_type": "code",
      "source": [
        "# coding: utf-8\n",
        "from gensim.models import word2vec, fasttext\n",
        "\n",
        "\n",
        "# Settings\n",
        "seed = 666\n",
        "sg = 0\n",
        "window_size = 10\n",
        "vector_size = 100\n",
        "min_count = 1\n",
        "workers = 8\n",
        "epochs = 5\n",
        "batch_words = 10000\n",
        "\n",
        "\n",
        "# Train\n",
        "train_data = word2vec.LineSentence('wiki_text_seg.txt')\n",
        "model = fasttext.FastText(\n",
        "    train_data,\n",
        "    min_count=min_count,\n",
        "    size=vector_size,\n",
        "    workers=workers,\n",
        "    iter=epochs,\n",
        "    window=window_size,\n",
        "    sg=sg,\n",
        "    seed=seed,\n",
        "    batch_words=batch_words,\n",
        ")\n",
        "\n",
        "\n",
        "model.save('fasttext.model')"
      ],
      "metadata": {
        "colab": {
          "base_uri": "https://localhost:8080/"
        },
        "id": "idQLtsY2XWtq",
        "outputId": "306be8db-a5ec-4403-ff88-62064b4fd25b"
      },
      "execution_count": 22,
      "outputs": [
        {
          "output_type": "stream",
          "name": "stderr",
          "text": [
            "WARNING:gensim.models.base_any2vec:under 10 jobs per worker: consider setting a smaller `batch_words' for smoother alpha decay\n"
          ]
        }
      ]
    },
    {
      "cell_type": "code",
      "source": [
        "# coding: utf-8\n",
        "\"\"\"\n",
        "Test the w2v model\n",
        "\"\"\"\n",
        "from gensim.models import word2vec\n",
        "\n",
        "\n",
        "# Load the model\n",
        "model = word2vec.Word2Vec.load('fasttext.model')\n",
        "\n",
        "\n",
        "# Test\n",
        "print(model['藥品交互作用'].shape)\n",
        "\n",
        "for item in model.most_similar('藥品交互作用'):\n",
        "    print(item)\n",
        "\n",
        "model.save('fasttext.model')"
      ],
      "metadata": {
        "colab": {
          "base_uri": "https://localhost:8080/"
        },
        "id": "Js8fTCzKXZOx",
        "outputId": "4707f727-26c1-406f-f588-3446b0622abc"
      },
      "execution_count": 24,
      "outputs": [
        {
          "output_type": "stream",
          "name": "stderr",
          "text": [
            "/usr/local/lib/python3.7/dist-packages/ipykernel_launcher.py:13: DeprecationWarning: Call to deprecated `__getitem__` (Method will be removed in 4.0.0, use self.wv.__getitem__() instead).\n",
            "  del sys.path[0]\n",
            "/usr/local/lib/python3.7/dist-packages/ipykernel_launcher.py:15: DeprecationWarning: Call to deprecated `most_similar` (Method will be removed in 4.0.0, use self.wv.most_similar() instead).\n",
            "  from ipykernel import kernelapp as app\n"
          ]
        },
        {
          "output_type": "stream",
          "name": "stdout",
          "text": [
            "(100,)\n",
            "('交互作用', 0.9991402626037598)\n",
            "('famotidine', 0.9977707266807556)\n",
            "('Famotidine', 0.9977117776870728)\n",
            "('theophylline', 0.9976571798324585)\n",
            "('Quetiapine', 0.9975762367248535)\n",
            "('Theophylline', 0.9975470900535583)\n",
            "('quetiapine', 0.9973865747451782)\n",
            "('theophyllin', 0.997315526008606)\n",
            "('metformine', 0.9970887899398804)\n",
            "('建議', 0.9970154762268066)\n"
          ]
        }
      ]
    }
  ]
}